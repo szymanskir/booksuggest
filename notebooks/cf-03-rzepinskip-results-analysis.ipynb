{
 "cells": [
  {
   "cell_type": "markdown",
   "metadata": {},
   "source": [
    "# Important\n",
    "\n",
    "`make scores` has to be run before running any notebook cell"
   ]
  },
  {
   "cell_type": "markdown",
   "metadata": {},
   "source": [
    "# Imports"
   ]
  },
  {
   "cell_type": "code",
   "execution_count": null,
   "metadata": {},
   "outputs": [],
   "source": [
    "import pandas as pd\n",
    "import seaborn as sns"
   ]
  },
  {
   "cell_type": "markdown",
   "metadata": {},
   "source": [
    "# Visualization settings"
   ]
  },
  {
   "cell_type": "code",
   "execution_count": null,
   "metadata": {},
   "outputs": [],
   "source": [
    "sns.set(context='paper', font_scale=1.2, style='ticks', palette='muted',\n",
    "        rc={\"axes.labelsize\":16, \"ytick.labelsize\": 14, \"xtick.labelsize\":14,\n",
    "            \"font.family\": \"sans-serif\"})"
   ]
  },
  {
   "cell_type": "markdown",
   "metadata": {},
   "source": [
    "# Accuracy"
   ]
  },
  {
   "cell_type": "markdown",
   "metadata": {},
   "source": [
    "## Results"
   ]
  },
  {
   "cell_type": "code",
   "execution_count": null,
   "metadata": {},
   "outputs": [],
   "source": [
    "df_accuracy = pd.read_csv(\"../results/cf-accuracy-results.csv\", index_col='model')"
   ]
  },
  {
   "cell_type": "code",
   "execution_count": null,
   "metadata": {},
   "outputs": [],
   "source": [
    "df_accuracy.sort_values('rmse')"
   ]
  },
  {
   "cell_type": "markdown",
   "metadata": {},
   "source": [
    "## Distribution"
   ]
  },
  {
   "cell_type": "code",
   "execution_count": null,
   "metadata": {},
   "outputs": [],
   "source": [
    "df_pred_so = pd.read_csv(\"../models/predictions/cf-results/testset/slopeone-testset-predictions.csv\")\n",
    "df_pred_knn = pd.read_csv(\"../models/predictions/cf-results/testset/knn-testset-predictions.csv\")\n",
    "df_pred_svd = pd.read_csv(\"../models/predictions/cf-results/testset/svd-testset-predictions.csv\")"
   ]
  },
  {
   "cell_type": "code",
   "execution_count": null,
   "metadata": {},
   "outputs": [],
   "source": [
    "df_pred_so['err'] = abs(df_pred_so.est - df_pred_so.rating)\n",
    "df_pred_knn['err'] = abs(df_pred_knn.est - df_pred_knn.rating)\n",
    "df_pred_svd['err'] = abs(df_pred_svd.est - df_pred_svd.rating)"
   ]
  },
  {
   "cell_type": "markdown",
   "metadata": {},
   "source": [
    "As the KNN and SVD results are very similar, the SlopeOne and KNN results are compared."
   ]
  },
  {
   "cell_type": "markdown",
   "metadata": {},
   "source": [
    "## Worst and best scenarios"
   ]
  },
  {
   "cell_type": "code",
   "execution_count": null,
   "metadata": {},
   "outputs": [],
   "source": [
    "df_pred_so.sort_values('err').tail()"
   ]
  },
  {
   "cell_type": "code",
   "execution_count": null,
   "metadata": {},
   "outputs": [],
   "source": [
    "df_pred_svd.sort_values('err').tail()"
   ]
  },
  {
   "cell_type": "code",
   "execution_count": null,
   "metadata": {},
   "outputs": [],
   "source": [
    "df_pred_knn[df_pred_so.err >= 3.5].head()"
   ]
  },
  {
   "cell_type": "code",
   "execution_count": null,
   "metadata": {},
   "outputs": [],
   "source": [
    "df_pred_knn[df_pred_knn.err >= 3.5].sort_values('err', ascending=False).head()"
   ]
  },
  {
   "cell_type": "code",
   "execution_count": null,
   "metadata": {},
   "outputs": [],
   "source": [
    "df_pred_so[df_pred_knn.err >= 3.5].head()"
   ]
  },
  {
   "cell_type": "markdown",
   "metadata": {},
   "source": [
    "## Estimates distributions"
   ]
  },
  {
   "cell_type": "code",
   "execution_count": null,
   "metadata": {},
   "outputs": [],
   "source": [
    "df_pred_so.est.describe()"
   ]
  },
  {
   "cell_type": "code",
   "execution_count": null,
   "metadata": {},
   "outputs": [],
   "source": [
    "df_pred_knn.est.describe()"
   ]
  },
  {
   "cell_type": "code",
   "execution_count": null,
   "metadata": {},
   "outputs": [],
   "source": [
    "so_dist_plot = sns.distplot(df_pred_so.est, kde=False)\n",
    "so_dist_plot.set(xlabel='Ratings estimation', ylabel='Frequency')"
   ]
  },
  {
   "cell_type": "code",
   "execution_count": null,
   "metadata": {},
   "outputs": [],
   "source": [
    "knn_dist_plot = sns.distplot(df_pred_knn.est, kde=False)\n",
    "knn_dist_plot.set(xlabel='Ratings estimation', ylabel='Frequency')"
   ]
  },
  {
   "cell_type": "code",
   "execution_count": null,
   "metadata": {},
   "outputs": [],
   "source": [
    "df_pred_so.err.describe()"
   ]
  },
  {
   "cell_type": "code",
   "execution_count": null,
   "metadata": {},
   "outputs": [],
   "source": [
    "df_pred_knn.err.describe()"
   ]
  },
  {
   "cell_type": "markdown",
   "metadata": {},
   "source": [
    "## Neighbors requirement"
   ]
  },
  {
   "cell_type": "code",
   "execution_count": null,
   "metadata": {},
   "outputs": [],
   "source": [
    "k_vals = df_pred_knn['details'].apply(lambda x : dict(eval(x))).apply(pd.Series)"
   ]
  },
  {
   "cell_type": "code",
   "execution_count": null,
   "metadata": {},
   "outputs": [],
   "source": [
    "df_pred_knn_full = pd.merge(df_pred_knn, k_vals, left_index=True, right_index=True)"
   ]
  },
  {
   "cell_type": "code",
   "execution_count": null,
   "metadata": {},
   "outputs": [],
   "source": [
    "df_pred_knn_full.head()"
   ]
  },
  {
   "cell_type": "code",
   "execution_count": null,
   "metadata": {},
   "outputs": [],
   "source": [
    "k_vals['actual_k'].describe()"
   ]
  },
  {
   "cell_type": "code",
   "execution_count": null,
   "metadata": {},
   "outputs": [],
   "source": [
    "k_vals[k_vals < 10].count() / len(k_vals)"
   ]
  },
  {
   "cell_type": "code",
   "execution_count": null,
   "metadata": {},
   "outputs": [],
   "source": [
    "df_pred_knn_full[df_pred_knn_full.err >= 3].head(1000).actual_k.describe()"
   ]
  },
  {
   "cell_type": "markdown",
   "metadata": {},
   "source": [
    "# Effectiveness"
   ]
  },
  {
   "cell_type": "code",
   "execution_count": null,
   "metadata": {},
   "outputs": [],
   "source": [
    "df_eff = pd.read_csv(\"../results/cf-effectiveness-results-n.csv\", index_col='model')"
   ]
  },
  {
   "cell_type": "code",
   "execution_count": null,
   "metadata": {},
   "outputs": [],
   "source": [
    "df_eff[df_eff.n == 20]"
   ]
  },
  {
   "cell_type": "code",
   "execution_count": null,
   "metadata": {},
   "outputs": [],
   "source": [
    "eff_over_n = df_eff[df_eff.index == 'svd-predictions.csv'].melt('n', var_name='cols',  value_name='vals')"
   ]
  },
  {
   "cell_type": "code",
   "execution_count": null,
   "metadata": {},
   "outputs": [],
   "source": [
    "import matplotlib.pyplot as plt\n",
    "g = sns.catplot(x=\"n\", y=\"vals\", hue='cols', data=eff_over_n, aspect=1.2, legend=False)\n",
    "\n",
    "for ax in g.axes.flat:\n",
    "    labels = ax.get_xticklabels()\n",
    "    for i,l in enumerate(labels):\n",
    "        if((i+1)%10 != 0 and i != 0): labels[i] = ''\n",
    "    ax.set_xticklabels(labels)\n",
    "\n",
    "new_labels = ['Precision - to read', 'Precision - ratings', 'Recall - to read', 'Recall - ratings']\n",
    "g.set(xlabel ='Number of recommendations', ylabel ='Metric value') \n",
    "g.ax.legend(loc=0)\n",
    "handles, labels = ax.get_legend_handles_labels()\n",
    "g.ax.legend(loc=2, handles=handles, labels=new_labels, fontsize='12')"
   ]
  },
  {
   "cell_type": "code",
   "execution_count": null,
   "metadata": {},
   "outputs": [],
   "source": []
  }
 ],
 "metadata": {
  "kernelspec": {
   "display_name": "rs-venv",
   "language": "python",
   "name": "rs-venv"
  },
  "language_info": {
   "codemirror_mode": {
    "name": "ipython",
    "version": 3
   },
   "file_extension": ".py",
   "mimetype": "text/x-python",
   "name": "python",
   "nbconvert_exporter": "python",
   "pygments_lexer": "ipython3",
   "version": "3.7.2"
  }
 },
 "nbformat": 4,
 "nbformat_minor": 2
}
