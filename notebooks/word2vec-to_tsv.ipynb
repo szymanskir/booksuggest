{
 "cells": [
  {
   "cell_type": "code",
   "execution_count": null,
   "metadata": {},
   "outputs": [],
   "source": [
    "import logging\n",
    "\n",
    "from typing import List\n",
    "\n",
    "import pandas as pd\n",
    "import numpy as np\n",
    "\n",
    "from booksuggest.models.cb_recommend_models import ICbRecommendationModel\n",
    "\n",
    "from booksuggest.utils.serialization import read_object\n",
    "from booksuggest.utils.csv_utils import save_csv\n",
    "\n",
    "def main(\n",
    "        model_filepath: str,\n",
    "        test_cases_filepath: str,\n",
    "        output_filepath: str\n",
    "):\n",
    "    logger = logging.getLogger(__name__)\n",
    "\n",
    "    logger.info('Loading model and test cases...')\n",
    "    model = read_object(model_filepath)\n",
    "    test_cases = _read_test_cases(test_cases_filepath)\n",
    "    \n",
    "    def get_vector(test_case_id):\n",
    "        try:\n",
    "          return model.content_analyzer.get_feature_vector(test_case_id)\n",
    "        except:\n",
    "          return np.zeros(150)\n",
    "    \n",
    "    feature_vectors = [get_vector(test_case_id)\n",
    "                               for test_case_id in range(1, 10001)]\n",
    "\n",
    "    \n",
    "    return feature_vectors"
   ]
  },
  {
   "cell_type": "code",
   "execution_count": null,
   "metadata": {},
   "outputs": [],
   "source": [
    "feature_vectors = main('models/content-based-models/word2vec-model.pkl', 'data/processed/similar_books.csv', './tmp.csv')"
   ]
  },
  {
   "cell_type": "code",
   "execution_count": null,
   "metadata": {},
   "outputs": [],
   "source": [
    "feature_vectors_flattened = [x.ravel() for x in feature_vectors]"
   ]
  },
  {
   "cell_type": "code",
   "execution_count": null,
   "metadata": {},
   "outputs": [],
   "source": [
    "feature_vectors_flattened"
   ]
  },
  {
   "cell_type": "code",
   "execution_count": null,
   "metadata": {},
   "outputs": [],
   "source": [
    "pd.DataFrame(feature_vectors_flattened).to_csv(\"tmp.out\", sep='\\t', header=False, index=False)"
   ]
  },
  {
   "cell_type": "code",
   "execution_count": null,
   "metadata": {},
   "outputs": [],
   "source": []
  }
 ],
 "metadata": {
  "kernelspec": {
   "display_name": "Python 3",
   "language": "python",
   "name": "python3"
  },
  "language_info": {
   "codemirror_mode": {
    "name": "ipython",
    "version": 3
   },
   "file_extension": ".py",
   "mimetype": "text/x-python",
   "name": "python",
   "nbconvert_exporter": "python",
   "pygments_lexer": "ipython3",
   "version": "3.6.8"
  }
 },
 "nbformat": 4,
 "nbformat_minor": 2
}
