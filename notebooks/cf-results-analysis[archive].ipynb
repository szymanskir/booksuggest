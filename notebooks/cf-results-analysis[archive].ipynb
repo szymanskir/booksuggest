{
 "cells": [
  {
   "cell_type": "markdown",
   "metadata": {},
   "source": [
    "# Important\n",
    "\n",
    "`make scores` has to be run before running any notebook cell"
   ]
  },
  {
   "cell_type": "markdown",
   "metadata": {},
   "source": [
    "# Imports"
   ]
  },
  {
   "cell_type": "code",
   "execution_count": null,
   "metadata": {},
   "outputs": [],
   "source": [
    "import pandas as pd"
   ]
  },
  {
   "cell_type": "markdown",
   "metadata": {},
   "source": [
    "# Accuracy"
   ]
  },
  {
   "cell_type": "markdown",
   "metadata": {},
   "source": [
    "## Results"
   ]
  },
  {
   "cell_type": "code",
   "execution_count": null,
   "metadata": {},
   "outputs": [],
   "source": [
    "df_accuracy = pd.read_csv(\"../results/cf-accuracy-results.csv\", index_col='model')"
   ]
  },
  {
   "cell_type": "code",
   "execution_count": null,
   "metadata": {},
   "outputs": [],
   "source": [
    "df_accuracy.sort_values('rmse')"
   ]
  },
  {
   "cell_type": "markdown",
   "metadata": {},
   "source": [
    "## Distribution"
   ]
  },
  {
   "cell_type": "code",
   "execution_count": null,
   "metadata": {},
   "outputs": [],
   "source": [
    "def get_predictions(model):\n",
    "    from surprise import Dataset, Prediction, Reader\n",
    "    ratings_df = pd.read_csv(\"../data/processed/ratings-test.csv\")\n",
    "    reader = Reader(rating_scale=(1, 5))\n",
    "    dataset = Dataset.load_from_df(\n",
    "        ratings_df[['user_id', 'book_id', 'rating']], reader)\n",
    "    testset = dataset.build_full_trainset().build_testset()\n",
    "    return model.test(testset)\n",
    "    \n",
    "def read_object(filename):\n",
    "    import pickle\n",
    "    with open(filename, 'rb') as read_file:\n",
    "        obj = pickle.load(read_file)\n",
    "\n",
    "    return obj"
   ]
  },
  {
   "cell_type": "code",
   "execution_count": null,
   "metadata": {},
   "outputs": [],
   "source": [
    "model_path = \"../models/collaborative-filtering-models/slopeone-model.pkl\"\n",
    "model = read_object(model_path)\n",
    "preds = get_predictions(model)\n",
    "df = pd.DataFrame.from_records(preds, columns=['user_id', 'book_id', 'rating', 'est', 'details'])\n",
    "df.to_csv(\"../models/predictions/cf-results/slopeone-testset-predictions.csv\", index=False)"
   ]
  },
  {
   "cell_type": "code",
   "execution_count": null,
   "metadata": {},
   "outputs": [],
   "source": [
    "df_pred_knn = pd.read_csv(\"../models/predictions/cf-results/knn-testset-predictions.csv\")\n",
    "df_pred_svd = pd.read_csv(\"../models/predictions/cf-results/svd-testset-predictions.csv\")"
   ]
  },
  {
   "cell_type": "code",
   "execution_count": null,
   "metadata": {},
   "outputs": [],
   "source": [
    "df_pred_knn.head(1)"
   ]
  },
  {
   "cell_type": "code",
   "execution_count": null,
   "metadata": {},
   "outputs": [],
   "source": [
    "model_path = \"../models/collaborative-filtering-models/svd-model.pkl\"\n",
    "model = read_object(model_path)\n",
    "from surprise import Dataset, Prediction, Reader\n",
    "ratings_df = pd.read_csv(\"../data/processed/ratings-test.csv\")\n",
    "reader = Reader(rating_scale=(1, 5))\n",
    "dataset = Dataset.load_from_df(\n",
    "    ratings_df[['user_id', 'book_id', 'rating']], reader)\n"
   ]
  },
  {
   "cell_type": "code",
   "execution_count": null,
   "metadata": {},
   "outputs": [],
   "source": [
    "trainset = dataset.build_full_trainset()\n",
    "testset = trainset.build_testset()\n",
    "pred = model.test(testset)"
   ]
  },
  {
   "cell_type": "code",
   "execution_count": null,
   "metadata": {},
   "outputs": [],
   "source": [
    "ui = 1\n",
    "uii = trainset.to_inner_uid(ui)"
   ]
  },
  {
   "cell_type": "markdown",
   "metadata": {},
   "source": [
    "## Worst and best scenarios"
   ]
  },
  {
   "cell_type": "markdown",
   "metadata": {},
   "source": [
    "# Effectiveness"
   ]
  },
  {
   "cell_type": "code",
   "execution_count": null,
   "metadata": {},
   "outputs": [],
   "source": []
  }
 ],
 "metadata": {
  "kernelspec": {
   "display_name": "rs-venv",
   "language": "python",
   "name": "rs-venv"
  },
  "language_info": {
   "codemirror_mode": {
    "name": "ipython",
    "version": 3
   },
   "file_extension": ".py",
   "mimetype": "text/x-python",
   "name": "python",
   "nbconvert_exporter": "python",
   "pygments_lexer": "ipython3",
   "version": "3.7.2"
  }
 },
 "nbformat": 4,
 "nbformat_minor": 2
}
