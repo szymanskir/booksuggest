{
 "cells": [
  {
   "cell_type": "markdown",
   "metadata": {},
   "source": [
    "# Important"
   ]
  },
  {
   "cell_type": "markdown",
   "metadata": {},
   "source": [
    "`make data/processed/similar_books.csv` has to be run before any cell in this notebook"
   ]
  },
  {
   "cell_type": "markdown",
   "metadata": {},
   "source": [
    "# Imports"
   ]
  },
  {
   "cell_type": "code",
   "execution_count": null,
   "metadata": {},
   "outputs": [],
   "source": [
    "import pandas as pd"
   ]
  },
  {
   "cell_type": "markdown",
   "metadata": {},
   "source": [
    "# Helper functions"
   ]
  },
  {
   "cell_type": "code",
   "execution_count": null,
   "metadata": {},
   "outputs": [],
   "source": [
    "def retrieve_similar_books(book_id, similar_books_data, book_data):\n",
    "    similar_books = similar_books_data.groupby('book_id').get_group(\n",
    "        book_id)['similar_book_id']\n",
    "    selected_book_title = book_data.loc[book_id, 'title']\n",
    "    similar_books_titles = book_data.loc[similar_books, 'title'].values\n",
    "    \n",
    "    print(f'Selected Book: {selected_book_title}:\\n')\n",
    "    print(f'\\tSimilar Books:\\n')\n",
    "    for similar_book_title in similar_books_titles:\n",
    "        print(f'\\t\\t{similar_book_title}')"
   ]
  },
  {
   "cell_type": "code",
   "execution_count": null,
   "metadata": {},
   "outputs": [],
   "source": [
    "def get_series_similar_books(series_ids, similar_books_data, book_data):\n",
    "    for book_id in series_ids:\n",
    "        retrieve_similar_books(book_id, similar_books_data, book_data)\n",
    "        print(90*'-' +'\\n')"
   ]
  },
  {
   "cell_type": "markdown",
   "metadata": {},
   "source": [
    "# Analysis"
   ]
  },
  {
   "cell_type": "code",
   "execution_count": null,
   "metadata": {},
   "outputs": [],
   "source": [
    "similar_books_data = pd.read_csv('../data/processed/similar_books.csv', index_col='book_id')\n",
    "book_data = pd.read_csv('../data/processed/book.csv', index_col='book_id')"
   ]
  },
  {
   "cell_type": "code",
   "execution_count": null,
   "metadata": {},
   "outputs": [],
   "source": [
    "similar_books_data.head()"
   ]
  },
  {
   "cell_type": "markdown",
   "metadata": {},
   "source": [
    "# Popular book series"
   ]
  },
  {
   "cell_type": "markdown",
   "metadata": {},
   "source": [
    "In order to check if the data from the `similar books` tag is appropriate a manual analysis for popular book series of differnt genres will be made. If the proposed similar books will belong to the same series or be similar in terms of settings/plots/genre then it will be considered as a valid position in the data."
   ]
  },
  {
   "cell_type": "markdown",
   "metadata": {},
   "source": [
    "## Harry Potter"
   ]
  },
  {
   "cell_type": "code",
   "execution_count": null,
   "metadata": {},
   "outputs": [],
   "source": [
    "harry_potter_book_ids = [2, 18, 21, 23, 24, 25, 27]"
   ]
  },
  {
   "cell_type": "code",
   "execution_count": null,
   "metadata": {},
   "outputs": [],
   "source": [
    "get_series_similar_books(\n",
    "    harry_potter_book_ids, similar_books_data, book_data)"
   ]
  },
  {
   "cell_type": "markdown",
   "metadata": {},
   "source": [
    "## Twilight"
   ]
  },
  {
   "cell_type": "code",
   "execution_count": null,
   "metadata": {},
   "outputs": [],
   "source": [
    "twilight_book_ids = [3, 49, 52]"
   ]
  },
  {
   "cell_type": "code",
   "execution_count": null,
   "metadata": {},
   "outputs": [],
   "source": [
    "get_series_similar_books(\n",
    "    twilight_book_ids, similar_books_data, book_data)"
   ]
  },
  {
   "cell_type": "markdown",
   "metadata": {},
   "source": [
    "# Rober Langdon series - Dan Brown"
   ]
  },
  {
   "cell_type": "code",
   "execution_count": null,
   "metadata": {},
   "outputs": [],
   "source": [
    "robert_langdon_book_ids = [9, 26, 201, 240]"
   ]
  },
  {
   "cell_type": "code",
   "execution_count": null,
   "metadata": {},
   "outputs": [],
   "source": [
    "get_series_similar_books(\n",
    "    robert_langdon_book_ids, similar_books_data, book_data)"
   ]
  },
  {
   "cell_type": "markdown",
   "metadata": {},
   "source": [
    "# Winnie the Pooh"
   ]
  },
  {
   "cell_type": "code",
   "execution_count": null,
   "metadata": {},
   "outputs": [],
   "source": [
    "winnie_the_pooh_book_ids = [444, 1545, 2648, 7481, 7696]"
   ]
  },
  {
   "cell_type": "code",
   "execution_count": null,
   "metadata": {},
   "outputs": [],
   "source": [
    "get_series_similar_books(\n",
    "    winnie_the_pooh_book_ids, similar_books_data, book_data)"
   ]
  },
  {
   "cell_type": "markdown",
   "metadata": {},
   "source": [
    "# Summary"
   ]
  },
  {
   "cell_type": "markdown",
   "metadata": {},
   "source": [
    "The `similar books` usually does not contain books from the same series. However, the remaining books do seem to be similar in terms of setting or plot e.g. books about `vampires` in case of similar books to Twilight or childern books in case of Winnie the Pooh."
   ]
  }
 ],
 "metadata": {
  "kernelspec": {
   "display_name": "rs-venv",
   "language": "python",
   "name": "rs-venv"
  },
  "language_info": {
   "codemirror_mode": {
    "name": "ipython",
    "version": 3
   },
   "file_extension": ".py",
   "mimetype": "text/x-python",
   "name": "python",
   "nbconvert_exporter": "python",
   "pygments_lexer": "ipython3",
   "version": "3.7.0"
  }
 },
 "nbformat": 4,
 "nbformat_minor": 2
}
