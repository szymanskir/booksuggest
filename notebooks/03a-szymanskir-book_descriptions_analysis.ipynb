{
 "cells": [
  {
   "cell_type": "markdown",
   "metadata": {},
   "source": [
    "# Important\n",
    "\n",
    "`make cb-tf-idf` has to be run in the main directory before as the notebook uses the result data from that process."
   ]
  },
  {
   "cell_type": "markdown",
   "metadata": {},
   "source": [
    "# Imports"
   ]
  },
  {
   "cell_type": "code",
   "execution_count": 25,
   "metadata": {},
   "outputs": [
    {
     "ename": "ModuleNotFoundError",
     "evalue": "No module named 'seaborn'",
     "output_type": "error",
     "traceback": [
      "\u001b[0;31m---------------------------------------------------------------------------\u001b[0m",
      "\u001b[0;31mModuleNotFoundError\u001b[0m                       Traceback (most recent call last)",
      "\u001b[0;32m<ipython-input-25-638c3ed69ba1>\u001b[0m in \u001b[0;36m<module>\u001b[0;34m\u001b[0m\n\u001b[1;32m      1\u001b[0m \u001b[0;32mimport\u001b[0m \u001b[0mpandas\u001b[0m \u001b[0;32mas\u001b[0m \u001b[0mpd\u001b[0m\u001b[0;34m\u001b[0m\u001b[0m\n\u001b[0;32m----> 2\u001b[0;31m \u001b[0;32mimport\u001b[0m \u001b[0mseaborn\u001b[0m \u001b[0;32mas\u001b[0m \u001b[0msns\u001b[0m\u001b[0;34m\u001b[0m\u001b[0m\n\u001b[0m\u001b[1;32m      3\u001b[0m \u001b[0;32mimport\u001b[0m \u001b[0mmatplotlib\u001b[0m\u001b[0;34m.\u001b[0m\u001b[0mpyplot\u001b[0m \u001b[0;32mas\u001b[0m \u001b[0mplt\u001b[0m\u001b[0;34m\u001b[0m\u001b[0m\n\u001b[1;32m      4\u001b[0m \u001b[0mget_ipython\u001b[0m\u001b[0;34m(\u001b[0m\u001b[0;34m)\u001b[0m\u001b[0;34m.\u001b[0m\u001b[0mrun_line_magic\u001b[0m\u001b[0;34m(\u001b[0m\u001b[0;34m'matplotlib'\u001b[0m\u001b[0;34m,\u001b[0m \u001b[0;34m'inline'\u001b[0m\u001b[0;34m)\u001b[0m\u001b[0;34m\u001b[0m\u001b[0m\n",
      "\u001b[0;31mModuleNotFoundError\u001b[0m: No module named 'seaborn'"
     ]
    }
   ],
   "source": [
    "import pandas as pd\n",
    "import seaborn as sns\n",
    "import matplotlib.pyplot as plt\n",
    "%matplotlib inline"
   ]
  },
  {
   "cell_type": "markdown",
   "metadata": {},
   "source": [
    "# Analysis"
   ]
  },
  {
   "cell_type": "code",
   "execution_count": 59,
   "metadata": {},
   "outputs": [],
   "source": [
    "data = pd.read_csv('../data/processed/book.csv', index_col='book_id')"
   ]
  },
  {
   "cell_type": "markdown",
   "metadata": {},
   "source": [
    "**Missing description example**"
   ]
  },
  {
   "cell_type": "code",
   "execution_count": 20,
   "metadata": {},
   "outputs": [
    {
     "data": {
      "text/plain": [
       "book_id                                                                   9974\n",
       "goodreads_book_id                                                       116494\n",
       "best_book_id                                                            116494\n",
       "work_id                                                                 827585\n",
       "books_count                                                                 38\n",
       "isbn                                                                 553153382\n",
       "authors                                                             Lois Lowry\n",
       "original_publication_year                                                 1978\n",
       "original_title                                               Anastasia Krupnik\n",
       "title                                Anastasia Krupnik (Anastasia Krupnik, #1)\n",
       "language_code                                                              NaN\n",
       "average_rating                                                            3.89\n",
       "ratings_count                                                            11914\n",
       "work_ratings_count                                                       12519\n",
       "work_text_reviews_count                                                    389\n",
       "ratings_1                                                                  440\n",
       "ratings_2                                                                  603\n",
       "ratings_3                                                                 3062\n",
       "ratings_4                                                                 4185\n",
       "ratings_5                                                                 4229\n",
       "image_url                    https://images.gr-assets.com/books/1476942137m...\n",
       "small_image_url              https://images.gr-assets.com/books/1476942137s...\n",
       "isbn13                                                             9.78055e+12\n",
       "description                                                                NaN\n",
       "Name: 9973, dtype: object"
      ]
     },
     "execution_count": 20,
     "metadata": {},
     "output_type": "execute_result"
    }
   ],
   "source": [
    "data.loc[9973]"
   ]
  },
  {
   "cell_type": "markdown",
   "metadata": {},
   "source": [
    "**Description not in english example**"
   ]
  },
  {
   "cell_type": "code",
   "execution_count": 22,
   "metadata": {},
   "outputs": [
    {
     "data": {
      "text/plain": [
       "book_id                                                                   9967\n",
       "goodreads_book_id                                                      5295735\n",
       "best_book_id                                                           5295735\n",
       "work_id                                                                7087982\n",
       "books_count                                                                 23\n",
       "isbn                                                                       NaN\n",
       "authors                                             Naguib Mahfouz, نجيب محفوظ\n",
       "original_publication_year                                                 1977\n",
       "original_title                                                  ملحمة الحرافيش\n",
       "title                                                                 الحرافيش\n",
       "language_code                                                              ara\n",
       "average_rating                                                            4.34\n",
       "ratings_count                                                             8572\n",
       "work_ratings_count                                                       10079\n",
       "work_text_reviews_count                                                   1216\n",
       "ratings_1                                                                  139\n",
       "ratings_2                                                                  297\n",
       "ratings_3                                                                 1174\n",
       "ratings_4                                                                 2859\n",
       "ratings_5                                                                 5610\n",
       "image_url                    https://images.gr-assets.com/books/1347915841m...\n",
       "small_image_url              https://images.gr-assets.com/books/1347915841s...\n",
       "isbn13                                                                     NaN\n",
       "description                  ﻳﺼﻒ ﻟﻨﺎ ﻧﺠﻴﺐ ﻣﺤﻔﻮﻅ ﺳﻌﻲ ﺍﻟﻨﻔﺲ ﺍﻟﺒﺸﺮﻳﺔ ﺍﻟﺪﺍﺋﻢ ﺍﻟ...\n",
       "Name: 9966, dtype: object"
      ]
     },
     "execution_count": 22,
     "metadata": {},
     "output_type": "execute_result"
    }
   ],
   "source": [
    "data.loc[9966]"
   ]
  },
  {
   "cell_type": "markdown",
   "metadata": {},
   "source": [
    "## Noticed issues\n",
    "* There are missing descriptions in the data\n",
    "* Some descriptions are not in english"
   ]
  },
  {
   "cell_type": "markdown",
   "metadata": {},
   "source": [
    "## Description content analysis"
   ]
  },
  {
   "cell_type": "code",
   "execution_count": 22,
   "metadata": {
    "scrolled": true
   },
   "outputs": [
    {
     "data": {
      "text/plain": [
       "0       Winning will make you famous. Losing means cer...\n",
       "1       Harry Potter's life is miserable. His parents ...\n",
       "2       About three things I was absolutely positive.F...\n",
       "3       The unforgettable novel of a childhood in a sl...\n",
       "4       THE GREAT GATSBY, F. Scott Fitzgerald’s third ...\n",
       "5       There is an alternate cover edition here.\"I fe...\n",
       "6       In a hole in the ground there lived a hobbit. ...\n",
       "7       The hero-narrator of The Catcher in the Rye is...\n",
       "8       When world-renowned Harvard symbologist Robert...\n",
       "9       “It is a truth universally acknowledged, that ...\n",
       "10       “It may be unfair, but what happens in a few ...\n",
       "11      Paperback features over fifty pages of bonus m...\n",
       "12      The year 1984 has come and gone, but George Or...\n",
       "13      As ferociously fresh as it was more than a hal...\n",
       "14      Discovered in the attic in which she spent the...\n",
       "15      Mikael Blomkvist, a once-respected financial j...\n",
       "16      Sparks are igniting.Flames are spreading.And t...\n",
       "17      Harry Potter's third year at Hogwarts is full ...\n",
       "18      One Ring to rule them all, One Ring to find th...\n",
       "19      My name is Katniss Everdeen.Why am I not dead?...\n",
       "20      Harry Potter is due to start his fifth year at...\n",
       "21      The Lovely Bones is the story of a family deva...\n",
       "22      The Dursleys were so mean and hideous that sum...\n",
       "23      Harry Potter is midway through both his traini...\n",
       "24      It's no longer safe for Harry at Hogwarts, so ...\n",
       "25      An ingenious code hidden in the works of Leona...\n",
       "26      The war against Voldemort is not going well: e...\n",
       "27      When a plane crashes on a remote island, a sma...\n",
       "28      In Romeo and Juliet, Shakespeare creates a wor...\n",
       "29      On a warm summer morning in North Carthage, Mi...\n",
       "                              ...                        \n",
       "9966    ﻳﺼﻒ ﻟﻨﺎ ﻧﺠﻴﺐ ﻣﺤﻔﻮﻅ ﺳﻌﻲ ﺍﻟﻨﻔﺲ ﺍﻟﺒﺸﺮﻳﺔ ﺍﻟﺪﺍﺋﻢ ﺍﻟ...\n",
       "9968    A cheeky up-close and personal guide to the se...\n",
       "9969    From the author of the number one Canadian bes...\n",
       "9970    Jasmine Freeman’s world is about to tumble dow...\n",
       "9971    New York, 1950. A young PR man working at Gene...\n",
       "9972    John Gottman has revolutionized the study of m...\n",
       "9974    Once the mighty fortress had stood strong, def...\n",
       "9975    Like the colorful pieces of sea glass washed u...\n",
       "9976    Married with three almost-grown children, Deli...\n",
       "9977    The Sailor Who Fell from Grace with the Sea te...\n",
       "9978    Part of the 'Courtney' series'Something always...\n",
       "9979    Rachel van Buren arrives in Gold Rush San Fran...\n",
       "9980    A high-school girl in Harlem, Geneva Settle, i...\n",
       "9981    In Karen Marie Moning’s latest installment of ...\n",
       "9982    Sous l'oeil attentif de son frère Yukio, Rin p...\n",
       "9984    In the year 2000, computers are the new superp...\n",
       "9985    An era unlike any in modern civilization is de...\n",
       "9986    A CIA agent's two-year-old child was stolen in...\n",
       "9987    Since it appeared in 1971, John Rawls's A Theo...\n",
       "9988    Darkness has descended on the Transylvanian Al...\n",
       "9990    In the decade since it won the Booker Prize, B...\n",
       "9991    Twenty eight florins a month is a huge price t...\n",
       "9992    Imagine you could get into a time machine and ...\n",
       "9993    Picking up after the dramatic cliffhanger that...\n",
       "9994    A handsome young sailor is unjustly accused of...\n",
       "9995    The Edge lies between worlds, on the border be...\n",
       "9996    Robert A. Caro's life of Lyndon Johnson, which...\n",
       "9997    \"O'Brian's Aubrey-Maturin volumes actually con...\n",
       "9998    The acclaimed author of the groundbreaking bes...\n",
       "9999    The First World War created the modern world. ...\n",
       "Name: description, Length: 9685, dtype: object"
      ]
     },
     "execution_count": 22,
     "metadata": {},
     "output_type": "execute_result"
    }
   ],
   "source": [
    "data['description'].dropna()"
   ]
  },
  {
   "cell_type": "markdown",
   "metadata": {},
   "source": [
    "The descriptions need cleaning regarding removing punctuation and stopwords. Additionally stemming and lemmatization will be performed."
   ]
  },
  {
   "cell_type": "markdown",
   "metadata": {},
   "source": [
    "# Cleaning results"
   ]
  },
  {
   "cell_type": "code",
   "execution_count": 57,
   "metadata": {},
   "outputs": [
    {
     "data": {
      "text/plain": [
       "book_id\n",
       "1        win make lose mean certain nation form north c...\n",
       "2        harri life his parent dead stuck heartless for...\n",
       "3        about three thing i absolut edward part i know...\n",
       "4        the unforgett novel childhood sleepi southern ...\n",
       "5        the great scott third stand suprem achiev this...\n",
       "6        there altern cover edit fell love way fall med...\n",
       "7        in hole ground live not wet fill end worm oozi...\n",
       "8        the the catcher rye ancient child nativ new yo...\n",
       "9        when harvard symbologist robert langdon summon...\n",
       "10       truth univers singl man posse good fortun must...\n",
       "11       may happen sometim even singl chang cours whol...\n",
       "12       paperback featur fifti page bonus includ sneak...\n",
       "13       the year come georg nightmarish vision world b...\n",
       "14       a feroci fresh half centuri remark allegori do...\n",
       "15       discov attic spent last year ann remark diari ...\n",
       "16       mikael financi watch profession life rapid cru...\n",
       "17       spark capitol want katniss hunger she fellow d...\n",
       "18       harri third year hogwart full new a convict si...\n",
       "19       one ring rule one ring find one ring bring dar...\n",
       "20       my name katniss i girl even though home gale f...\n",
       "21       harri potter due start fifth year hogwart scho...\n",
       "22       the love bone stori famili devast gruesom murd...\n",
       "23       the dursley mean hideous summer harri potter w...\n",
       "24       harri potter midway train wizard come harri wa...\n",
       "25       longer safe harri best ron professor dumbledor...\n",
       "26       an ingeni code hidden work leonardo da a despe...\n",
       "27       the war voldemort go even muggl govern ron sca...\n",
       "28       when plane crash remot small group schoolboy s...\n",
       "29       in romeo shakespear creat world violenc genera...\n",
       "30       on warm summer morn north nick ami fifth wed p...\n",
       "                               ...                        \n",
       "9971     jasmin world tumbl around one respons none fir...\n",
       "9972     new a young pr man work general electr sold fi...\n",
       "9973     john gottman revolution studi marriag use rigo...\n",
       "9974                                                   NaN\n",
       "9975     onc mighti fortress stood defend mightiest dre...\n",
       "9976     like color piec sea glass wash opal weather ro...\n",
       "9977     marri three delia grinstead vanish without tra...\n",
       "9978     the sailor who fell grace sea tell tale band s...\n",
       "9979     part alway die lion feed yet meat follow the l...\n",
       "9980     rachel van buren arriv gold rush san francisco...\n",
       "9981     a girl geneva target ruthless profession hire ...\n",
       "9982     in karen mari latest instal epic new york time...\n",
       "9983                                                   NaN\n",
       "9984                                                   NaN\n",
       "9985     in year comput new those control control to en...\n",
       "9986     an era unlik modern civil descend without run ...\n",
       "9987     a cia child stolen night brutal act eight year...\n",
       "9988     sinc appear john a theori justic becom the aut...\n",
       "9989     dark descend transylvanian pack power grey wol...\n",
       "9990                                                   NaN\n",
       "9991     in decad sinc booker ben famish road becom lik...\n",
       "9992     twenti eight florin month huge price man stand...\n",
       "9993     imagin could get time machin travel back this ...\n",
       "9994     pick dramat cliffhang end book sabrina prayer ...\n",
       "9995     a handsom young sailor unjust accus plot mutin...\n",
       "9996     the edg lie border peopl shop walmart magic bl...\n",
       "9997     robert life lyndon began great acclaim the pat...\n",
       "9998     volum actual constitut singl one list greatest...\n",
       "9999     the acclaim author groundbreak bestsel schoolg...\n",
       "10000    the first world war creat modern a conflict un...\n",
       "Name: description, Length: 10000, dtype: object"
      ]
     },
     "execution_count": 57,
     "metadata": {},
     "output_type": "execute_result"
    }
   ],
   "source": [
    "cleaned_data = pd.read_csv('../data/interim/cb-tf-idf/book.csv', index_col='book_id')\n",
    "cleaned_data['description']"
   ]
  },
  {
   "cell_type": "markdown",
   "metadata": {},
   "source": [
    "# Example results"
   ]
  },
  {
   "cell_type": "code",
   "execution_count": 60,
   "metadata": {},
   "outputs": [
    {
     "data": {
      "text/plain": [
       "'win make lose mean certain nation form north countri consist wealthi capitol region surround poorer earli rebellion led district capitol result destruct creation annual televis event known hunger in remind power grace district must yield one boy one girl age lotteri system particip the chosen annual reap forc fight leav one survivor claim young select district femal katniss volunt take she male counterpart pit stronger train whole see death but katniss close death for surviv second'"
      ]
     },
     "execution_count": 60,
     "metadata": {},
     "output_type": "execute_result"
    }
   ],
   "source": [
    "cleaned_data.loc[1, 'description']"
   ]
  },
  {
   "cell_type": "code",
   "execution_count": 61,
   "metadata": {},
   "outputs": [
    {
     "data": {
      "text/plain": [
       "\"Winning will make you famous. Losing means certain death.The nation of Panem, formed from a post-apocalyptic North America, is a country that consists of a wealthy Capitol region surrounded by 12 poorer districts. Early in its history, a rebellion led by a 13th district against the Capitol resulted in its destruction and the creation of an annual televised event known as the Hunger Games. In punishment, and as a reminder of the power and grace of the Capitol, each district must yield one boy and one girl between the ages of 12 and 18 through a lottery system to participate in the games. The 'tributes' are chosen during the annual Reaping and are forced to fight to the death, leaving only one survivor to claim victory.When 16-year-old Katniss's young sister, Prim, is selected as District 12's female representative, Katniss volunteers to take her place. She and her male counterpart Peeta, are pitted against bigger, stronger representatives, some of whom have trained for this their whole lives. , she sees it as a death sentence. But Katniss has been close to death before. For her, survival is second nature.\""
      ]
     },
     "execution_count": 61,
     "metadata": {},
     "output_type": "execute_result"
    }
   ],
   "source": [
    "data.loc[1, 'description']"
   ]
  },
  {
   "cell_type": "markdown",
   "metadata": {},
   "source": [
    "# Notes"
   ]
  },
  {
   "cell_type": "markdown",
   "metadata": {},
   "source": [
    "- N-grams should be considered in other methods, for example a very specific feature word pairing like `Hunger Games` is omitted in the result"
   ]
  },
  {
   "cell_type": "markdown",
   "metadata": {},
   "source": [
    "# Bibliography"
   ]
  }
 ],
 "metadata": {
  "kernelspec": {
   "display_name": "Python 3",
   "language": "python",
   "name": "python3"
  },
  "language_info": {
   "codemirror_mode": {
    "name": "ipython",
    "version": 3
   },
   "file_extension": ".py",
   "mimetype": "text/x-python",
   "name": "python",
   "nbconvert_exporter": "python",
   "pygments_lexer": "ipython3",
   "version": "3.6.6"
  }
 },
 "nbformat": 4,
 "nbformat_minor": 2
}
