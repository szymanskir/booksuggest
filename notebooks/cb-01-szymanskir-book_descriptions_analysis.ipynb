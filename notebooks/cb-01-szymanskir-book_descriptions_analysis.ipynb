{
 "cells": [
  {
   "cell_type": "markdown",
   "metadata": {},
   "source": [
    "# Important\n",
    "\n",
    "`make cb-tf-idf` has to be run in the main directory before as the notebook uses the result data from that process."
   ]
  },
  {
   "cell_type": "markdown",
   "metadata": {},
   "source": [
    "# Imports"
   ]
  },
  {
   "cell_type": "code",
   "execution_count": 1,
   "metadata": {},
   "outputs": [],
   "source": [
    "import pandas as pd\n",
    "import seaborn as sns\n",
    "import matplotlib.pyplot as plt\n",
    "%matplotlib inline"
   ]
  },
  {
   "cell_type": "markdown",
   "metadata": {},
   "source": [
    "# Analysis"
   ]
  },
  {
   "cell_type": "code",
   "execution_count": 10,
   "metadata": {},
   "outputs": [],
   "source": [
    "original_data = pd.read_csv('../data/interim/book-unified_ids.csv', index_col='book_id')"
   ]
  },
  {
   "cell_type": "markdown",
   "metadata": {},
   "source": [
    "**Missing description example**"
   ]
  },
  {
   "cell_type": "code",
   "execution_count": 11,
   "metadata": {},
   "outputs": [
    {
     "data": {
      "text/plain": [
       "goodreads_book_id                                                       849380\n",
       "best_book_id                                                            849380\n",
       "work_id                                                                   4370\n",
       "books_count                                                                 52\n",
       "isbn                                                                 609805797\n",
       "authors                                            John M. Gottman, Nan Silver\n",
       "original_publication_year                                                 1999\n",
       "original_title               The Seven Principles for Making Marriage Work:...\n",
       "title                        The Seven Principles for Making Marriage Work:...\n",
       "language_code                                                              NaN\n",
       "average_rating                                                            4.19\n",
       "ratings_count                                                             8868\n",
       "work_ratings_count                                                       10017\n",
       "work_text_reviews_count                                                    749\n",
       "ratings_1                                                                  126\n",
       "ratings_2                                                                  334\n",
       "ratings_3                                                                 1604\n",
       "ratings_4                                                                 3446\n",
       "ratings_5                                                                 4507\n",
       "image_url                    https://images.gr-assets.com/books/1320521960m...\n",
       "small_image_url              https://images.gr-assets.com/books/1320521960s...\n",
       "isbn13                                                             9.78061e+12\n",
       "description                  John Gottman has revolutionized the study of m...\n",
       "Name: 9973, dtype: object"
      ]
     },
     "execution_count": 11,
     "metadata": {},
     "output_type": "execute_result"
    }
   ],
   "source": [
    "original_data.loc[9973]"
   ]
  },
  {
   "cell_type": "markdown",
   "metadata": {},
   "source": [
    "**Description not in english example**"
   ]
  },
  {
   "cell_type": "code",
   "execution_count": 12,
   "metadata": {},
   "outputs": [
    {
     "data": {
      "text/plain": [
       "goodreads_book_id                                                         9864\n",
       "best_book_id                                                              9864\n",
       "work_id                                                                3279710\n",
       "books_count                                                                 72\n",
       "isbn                                                                 312254997\n",
       "authors                                                         Salman Rushdie\n",
       "original_publication_year                                                 1999\n",
       "original_title                                     The Ground Beneath Her Feet\n",
       "title                                              The Ground Beneath Her Feet\n",
       "language_code                                                              eng\n",
       "average_rating                                                            3.77\n",
       "ratings_count                                                             8673\n",
       "work_ratings_count                                                        9541\n",
       "work_text_reviews_count                                                    535\n",
       "ratings_1                                                                  264\n",
       "ratings_2                                                                  803\n",
       "ratings_3                                                                 2450\n",
       "ratings_4                                                                 3360\n",
       "ratings_5                                                                 2664\n",
       "image_url                    https://s.gr-assets.com/assets/nophoto/book/11...\n",
       "small_image_url              https://s.gr-assets.com/assets/nophoto/book/50...\n",
       "isbn13                                                             9.78031e+12\n",
       "description                  The ground shifts repeatedly beneath the reade...\n",
       "Name: 9966, dtype: object"
      ]
     },
     "execution_count": 12,
     "metadata": {},
     "output_type": "execute_result"
    }
   ],
   "source": [
    "data.loc[9966]"
   ]
  },
  {
   "cell_type": "markdown",
   "metadata": {},
   "source": [
    "### Description length analysis"
   ]
  },
  {
   "cell_type": "code",
   "execution_count": 14,
   "metadata": {},
   "outputs": [
    {
     "data": {
      "text/plain": [
       "count    10000.00000\n",
       "mean       872.34430\n",
       "std        512.57934\n",
       "min          4.00000\n",
       "25%        541.00000\n",
       "50%        809.00000\n",
       "75%       1108.00000\n",
       "max       8271.00000\n",
       "Name: description, dtype: float64"
      ]
     },
     "execution_count": 14,
     "metadata": {},
     "output_type": "execute_result"
    }
   ],
   "source": [
    "original_data['description'].apply(len).describe()"
   ]
  },
  {
   "cell_type": "markdown",
   "metadata": {},
   "source": [
    "## Noticed issues\n",
    "* There are missing descriptions in the data\n",
    "* Some descriptions are not in english"
   ]
  },
  {
   "cell_type": "markdown",
   "metadata": {},
   "source": [
    "## Description content analysis"
   ]
  },
  {
   "cell_type": "code",
   "execution_count": 22,
   "metadata": {
    "scrolled": true
   },
   "outputs": [
    {
     "data": {
      "text/plain": [
       "0       Winning will make you famous. Losing means cer...\n",
       "1       Harry Potter's life is miserable. His parents ...\n",
       "2       About three things I was absolutely positive.F...\n",
       "3       The unforgettable novel of a childhood in a sl...\n",
       "4       THE GREAT GATSBY, F. Scott Fitzgerald’s third ...\n",
       "5       There is an alternate cover edition here.\"I fe...\n",
       "6       In a hole in the ground there lived a hobbit. ...\n",
       "7       The hero-narrator of The Catcher in the Rye is...\n",
       "8       When world-renowned Harvard symbologist Robert...\n",
       "9       “It is a truth universally acknowledged, that ...\n",
       "10       “It may be unfair, but what happens in a few ...\n",
       "11      Paperback features over fifty pages of bonus m...\n",
       "12      The year 1984 has come and gone, but George Or...\n",
       "13      As ferociously fresh as it was more than a hal...\n",
       "14      Discovered in the attic in which she spent the...\n",
       "15      Mikael Blomkvist, a once-respected financial j...\n",
       "16      Sparks are igniting.Flames are spreading.And t...\n",
       "17      Harry Potter's third year at Hogwarts is full ...\n",
       "18      One Ring to rule them all, One Ring to find th...\n",
       "19      My name is Katniss Everdeen.Why am I not dead?...\n",
       "20      Harry Potter is due to start his fifth year at...\n",
       "21      The Lovely Bones is the story of a family deva...\n",
       "22      The Dursleys were so mean and hideous that sum...\n",
       "23      Harry Potter is midway through both his traini...\n",
       "24      It's no longer safe for Harry at Hogwarts, so ...\n",
       "25      An ingenious code hidden in the works of Leona...\n",
       "26      The war against Voldemort is not going well: e...\n",
       "27      When a plane crashes on a remote island, a sma...\n",
       "28      In Romeo and Juliet, Shakespeare creates a wor...\n",
       "29      On a warm summer morning in North Carthage, Mi...\n",
       "                              ...                        \n",
       "9966    ﻳﺼﻒ ﻟﻨﺎ ﻧﺠﻴﺐ ﻣﺤﻔﻮﻅ ﺳﻌﻲ ﺍﻟﻨﻔﺲ ﺍﻟﺒﺸﺮﻳﺔ ﺍﻟﺪﺍﺋﻢ ﺍﻟ...\n",
       "9968    A cheeky up-close and personal guide to the se...\n",
       "9969    From the author of the number one Canadian bes...\n",
       "9970    Jasmine Freeman’s world is about to tumble dow...\n",
       "9971    New York, 1950. A young PR man working at Gene...\n",
       "9972    John Gottman has revolutionized the study of m...\n",
       "9974    Once the mighty fortress had stood strong, def...\n",
       "9975    Like the colorful pieces of sea glass washed u...\n",
       "9976    Married with three almost-grown children, Deli...\n",
       "9977    The Sailor Who Fell from Grace with the Sea te...\n",
       "9978    Part of the 'Courtney' series'Something always...\n",
       "9979    Rachel van Buren arrives in Gold Rush San Fran...\n",
       "9980    A high-school girl in Harlem, Geneva Settle, i...\n",
       "9981    In Karen Marie Moning’s latest installment of ...\n",
       "9982    Sous l'oeil attentif de son frère Yukio, Rin p...\n",
       "9984    In the year 2000, computers are the new superp...\n",
       "9985    An era unlike any in modern civilization is de...\n",
       "9986    A CIA agent's two-year-old child was stolen in...\n",
       "9987    Since it appeared in 1971, John Rawls's A Theo...\n",
       "9988    Darkness has descended on the Transylvanian Al...\n",
       "9990    In the decade since it won the Booker Prize, B...\n",
       "9991    Twenty eight florins a month is a huge price t...\n",
       "9992    Imagine you could get into a time machine and ...\n",
       "9993    Picking up after the dramatic cliffhanger that...\n",
       "9994    A handsome young sailor is unjustly accused of...\n",
       "9995    The Edge lies between worlds, on the border be...\n",
       "9996    Robert A. Caro's life of Lyndon Johnson, which...\n",
       "9997    \"O'Brian's Aubrey-Maturin volumes actually con...\n",
       "9998    The acclaimed author of the groundbreaking bes...\n",
       "9999    The First World War created the modern world. ...\n",
       "Name: description, Length: 9685, dtype: object"
      ]
     },
     "execution_count": 22,
     "metadata": {},
     "output_type": "execute_result"
    }
   ],
   "source": [
    "data['description'].dropna()"
   ]
  },
  {
   "cell_type": "markdown",
   "metadata": {},
   "source": [
    "The descriptions need cleaning regarding removing punctuation and stopwords. Additionally stemming and lemmatization will be performed."
   ]
  },
  {
   "cell_type": "markdown",
   "metadata": {},
   "source": [
    "# Cleaning results\n",
    "\n",
    "Descriptions have been cleaned using the following operations:\n",
    "* transforming to lower case\n",
    "* lemmatization\n",
    "* stemming\n",
    "\n",
    "Two approaches regarding nouns have been implemented:\n",
    "* nouns are kept in the description\n",
    "* nouns are deleted from the description\n",
    "\n",
    "The reason why there are two approaches is the fact that on the one hand expressions like `Harry Potter` is a very important feature. But if there is another book in which the main character is named `Harry` then even though this book might be completely different it might get classified as similar. "
   ]
  },
  {
   "cell_type": "code",
   "execution_count": 15,
   "metadata": {},
   "outputs": [
    {
     "data": {
      "text/plain": [
       "book_id\n",
       "1       win make lose mean certain the nation form nor...\n",
       "2       harri life his parent dead stuck heartless for...\n",
       "3       about three thing i absolut edward part i know...\n",
       "4       the unforgett novel childhood sleepi southern ...\n",
       "5       the great gatsbi scott third stand suprem achi...\n",
       "6       there altern cover edit fell love way fall des...\n",
       "7       in hole ground live not wet fill end worm oozi...\n",
       "8       the the catcher rye ancient child nativ new yo...\n",
       "9       when harvard symbologist robert langdon summon...\n",
       "10      truth univers singl man posse good fortun must...\n",
       "11      may happen sometim even singl chang cours whol...\n",
       "12      paperback featur fifti page bonus includ sneak...\n",
       "13      the year come georg nightmarish vision world b...\n",
       "14      a feroci fresh half centuri remark allegori do...\n",
       "15      discov attic spent last year ann remark diari ...\n",
       "16      mikael financi watch profession life rapid cru...\n",
       "17      spark flame and capitol want against katniss h...\n",
       "18      harri third year hogwart full new a convict si...\n",
       "19      one ring rule one ring find one ring bring dar...\n",
       "20      my name katniss whi i i katniss girl even thou...\n",
       "21      harri potter due start fifth year hogwart scho...\n",
       "22      the love bone stori famili devast gruesom murd...\n",
       "23      the dursley mean hideous summer harri potter w...\n",
       "24      harri potter midway train wizard come harri wa...\n",
       "25      longer safe harri best ron professor dumbledor...\n",
       "26      an ingeni code hidden work leonardo da a despe...\n",
       "27      the war voldemort go even muggl govern ron sca...\n",
       "28      when plane crash remot small group schoolboy s...\n",
       "29      in romeo juliet shakespear creat world violenc...\n",
       "30      on warm summer morn north nick ami fifth wed p...\n",
       "                              ...                        \n",
       "9953    for other human live side side uneasi but huma...\n",
       "9955    a fresh fun repackag wild card better than per...\n",
       "9956    a tragic death xavier institut reveal power en...\n",
       "9961    the time a holiday colin maria lock they groom...\n",
       "9962    an ancient titl respect word cunt long ago vee...\n",
       "9963    the vile sorcer sidi plan strike kingdom fatal...\n",
       "9964    paig mahoney escap brutal prison camp sheol pr...\n",
       "9965    the mister titl jakabob demon whose ghast past...\n",
       "9966    the ground shift repeat beneath foot cours sal...\n",
       "9969    a cheeki person guid secret scienc digest for ...\n",
       "9972    new a young pr man work general electr sold fi...\n",
       "9975    onc mighti fortress stood defend mightiest dre...\n",
       "9976    like color piec sea glass wash opal weather ro...\n",
       "9978    the sailor who fell grace sea tell tale band s...\n",
       "9979    part seri alway die lion feed yet meat follow ...\n",
       "9980    rachel van buren arriv gold rush san francisco...\n",
       "9981    a girl geneva target ruthless profession hire ...\n",
       "9982    in karen mari latest instal epic new york time...\n",
       "9985    in year comput new those control control to en...\n",
       "9987    a cia child stolen night brutal act eight year...\n",
       "9988    sinc appear john a theori justic becom the aut...\n",
       "9991    in decad sinc booker ben famish road becom lik...\n",
       "9992    twenti eight florin month huge price man stand...\n",
       "9993    imagin could get time machin travel back this ...\n",
       "9994    pick dramat cliffhang end book sabrina prayer ...\n",
       "9995    a handsom young sailor unjust accus plot mutin...\n",
       "9996    the edg lie border peopl shop walmart magic bl...\n",
       "9997    robert life lyndon began great acclaim the pat...\n",
       "9998    volum actual constitut singl one list greatest...\n",
       "9999    the acclaim author groundbreak bestsel schoolg...\n",
       "Name: description, Length: 7575, dtype: object"
      ]
     },
     "execution_count": 15,
     "metadata": {},
     "output_type": "execute_result"
    }
   ],
   "source": [
    "cleaned_data = pd.read_csv('../data/interim/cb-tf-idf/book_with_nouns.csv', index_col='book_id')\n",
    "cleaned_data['description']"
   ]
  },
  {
   "cell_type": "markdown",
   "metadata": {},
   "source": [
    "# Example results"
   ]
  },
  {
   "cell_type": "code",
   "execution_count": 60,
   "metadata": {},
   "outputs": [
    {
     "data": {
      "text/plain": [
       "'win make lose mean certain nation form north countri consist wealthi capitol region surround poorer earli rebellion led district capitol result destruct creation annual televis event known hunger in remind power grace district must yield one boy one girl age lotteri system particip the chosen annual reap forc fight leav one survivor claim young select district femal katniss volunt take she male counterpart pit stronger train whole see death but katniss close death for surviv second'"
      ]
     },
     "execution_count": 60,
     "metadata": {},
     "output_type": "execute_result"
    }
   ],
   "source": [
    "cleaned_data.loc[1, 'description']"
   ]
  },
  {
   "cell_type": "code",
   "execution_count": 61,
   "metadata": {},
   "outputs": [
    {
     "data": {
      "text/plain": [
       "\"Winning will make you famous. Losing means certain death.The nation of Panem, formed from a post-apocalyptic North America, is a country that consists of a wealthy Capitol region surrounded by 12 poorer districts. Early in its history, a rebellion led by a 13th district against the Capitol resulted in its destruction and the creation of an annual televised event known as the Hunger Games. In punishment, and as a reminder of the power and grace of the Capitol, each district must yield one boy and one girl between the ages of 12 and 18 through a lottery system to participate in the games. The 'tributes' are chosen during the annual Reaping and are forced to fight to the death, leaving only one survivor to claim victory.When 16-year-old Katniss's young sister, Prim, is selected as District 12's female representative, Katniss volunteers to take her place. She and her male counterpart Peeta, are pitted against bigger, stronger representatives, some of whom have trained for this their whole lives. , she sees it as a death sentence. But Katniss has been close to death before. For her, survival is second nature.\""
      ]
     },
     "execution_count": 61,
     "metadata": {},
     "output_type": "execute_result"
    }
   ],
   "source": [
    "data.loc[1, 'description']"
   ]
  },
  {
   "cell_type": "markdown",
   "metadata": {},
   "source": [
    "## Comparison of nouns removal"
   ]
  },
  {
   "cell_type": "code",
   "execution_count": 33,
   "metadata": {},
   "outputs": [],
   "source": [
    "clean_data_with_nouns = pd.read_csv('../data/interim/cb-tf-idf/book_with_nouns.csv', index_col='book_id')\n",
    "clean_data_without_nouns = pd.read_csv('../data/interim/cb-tf-idf/book_without_nouns.csv', index_col='book_id')"
   ]
  },
  {
   "cell_type": "code",
   "execution_count": 34,
   "metadata": {},
   "outputs": [],
   "source": [
    "harry_potter_description_with_nouns = clean_data_with_nouns.loc[2, 'description']\n",
    "harry_potter_description_without_nouns = clean_data_without_nouns.loc[2, 'description']"
   ]
  },
  {
   "cell_type": "code",
   "execution_count": 35,
   "metadata": {},
   "outputs": [
    {
     "data": {
      "text/plain": [
       "'harri life his parent dead stuck heartless forc live tini closet but fortun chang receiv letter tell truth a mysteri visitor rescu relat take new hogwart school witchcraft after lifetim bottl magic harri final feel like normal but even within wizard he boy person ever surviv kill cur inflict evil lord launch brutal takeov wizard vanish fail kill though first year hogwart best everyth there danger secret object hidden within castl harri believ respons prevent fall evil but bring contact forc terrifi ever could full sympathet wild imagin countless excit first instal seri assembl unforgett magic world set stage mani adventur'"
      ]
     },
     "execution_count": 35,
     "metadata": {},
     "output_type": "execute_result"
    }
   ],
   "source": [
    "harry_potter_description_with_nouns"
   ]
  },
  {
   "cell_type": "code",
   "execution_count": 36,
   "metadata": {},
   "outputs": [
    {
     "data": {
      "text/plain": [
       "'life his parent dead stuck heartless forc live tini closet but fortun chang receiv letter tell truth mysteri visitor rescu relat take new after lifetim bottl magic final feel like normal but even within he boy person ever surviv kill cur inflict evil launch brutal takeov vanish fail kill first year best everyth there danger secret object hidden within castl believ respons prevent fall evil but bring contact forc terrifi ever could sympathet wild imagin countless excit first instal seri assembl unforgett magic world set stage mani adventur'"
      ]
     },
     "execution_count": 36,
     "metadata": {},
     "output_type": "execute_result"
    }
   ],
   "source": [
    "harry_potter_description_without_nouns"
   ]
  },
  {
   "cell_type": "markdown",
   "metadata": {},
   "source": [
    "### Example of book with short description"
   ]
  },
  {
   "cell_type": "code",
   "execution_count": 54,
   "metadata": {},
   "outputs": [
    {
     "data": {
      "text/plain": [
       "'Kiss of the Highlander (The Highlander Series, Book 4)'"
      ]
     },
     "execution_count": 54,
     "metadata": {},
     "output_type": "execute_result"
    }
   ],
   "source": [
    "original_data.loc[4210, 'description']"
   ]
  },
  {
   "cell_type": "code",
   "execution_count": 52,
   "metadata": {},
   "outputs": [
    {
     "data": {
      "text/plain": [
       "'kiss highland highland book'"
      ]
     },
     "execution_count": 52,
     "metadata": {},
     "output_type": "execute_result"
    }
   ],
   "source": [
    "clean_data_with_nouns.loc[4210, 'description']"
   ]
  },
  {
   "cell_type": "code",
   "execution_count": 55,
   "metadata": {},
   "outputs": [
    {
     "data": {
      "text/plain": [
       "nan"
      ]
     },
     "execution_count": 55,
     "metadata": {},
     "output_type": "execute_result"
    }
   ],
   "source": [
    "clean_data_without_nouns.loc[4210, 'description']"
   ]
  },
  {
   "cell_type": "markdown",
   "metadata": {},
   "source": [
    "# Notes"
   ]
  },
  {
   "cell_type": "markdown",
   "metadata": {},
   "source": [
    "- N-grams should be considered in other methods, for example a very specific feature word pairing like `Hunger Games` is omitted in the result\n",
    "- weird ending like for example `countri` instead of `country`. however this is not an issue because all words will be processed in the same way"
   ]
  },
  {
   "cell_type": "markdown",
   "metadata": {},
   "source": [
    "# Bibliography"
   ]
  }
 ],
 "metadata": {
  "kernelspec": {
   "display_name": "Python 3",
   "language": "python",
   "name": "python3"
  },
  "language_info": {
   "codemirror_mode": {
    "name": "ipython",
    "version": 3
   },
   "file_extension": ".py",
   "mimetype": "text/x-python",
   "name": "python",
   "nbconvert_exporter": "python",
   "pygments_lexer": "ipython3",
   "version": "3.6.6"
  }
 },
 "nbformat": 4,
 "nbformat_minor": 2
}
