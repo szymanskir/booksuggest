{
 "cells": [
  {
   "cell_type": "markdown",
   "metadata": {},
   "source": [
    "# Imports"
   ]
  },
  {
   "cell_type": "code",
   "execution_count": 1,
   "metadata": {},
   "outputs": [],
   "source": [
    "import pandas as pd\n",
    "\n",
    "from os import listdir\n",
    "from os.path import basename, join\n",
    "from src.utils.serialization import read_object"
   ]
  },
  {
   "cell_type": "markdown",
   "metadata": {},
   "source": [
    "# Helper functions"
   ]
  },
  {
   "cell_type": "code",
   "execution_count": 2,
   "metadata": {},
   "outputs": [],
   "source": [
    "def find_pkl_filenames(dir_path, suffix='.pkl'):\n",
    "    files = listdir(dir_path)\n",
    "    return [join(dir_path, file) for file in files if file.endswith(suffix)]"
   ]
  },
  {
   "cell_type": "code",
   "execution_count": 3,
   "metadata": {},
   "outputs": [
    {
     "name": "stderr",
     "output_type": "stream",
     "text": [
      "/home/szymanskir/anaconda3/lib/python3.6/site-packages/sklearn/base.py:251: UserWarning: Trying to unpickle estimator CountVectorizer from version 0.20.1 when using version 0.20.0. This might lead to breaking code or invalid results. Use at your own risk.\n",
      "  UserWarning)\n",
      "/home/szymanskir/anaconda3/lib/python3.6/site-packages/sklearn/base.py:251: UserWarning: Trying to unpickle estimator NearestNeighbors from version 0.20.1 when using version 0.20.0. This might lead to breaking code or invalid results. Use at your own risk.\n",
      "  UserWarning)\n",
      "/home/szymanskir/anaconda3/lib/python3.6/site-packages/sklearn/base.py:251: UserWarning: Trying to unpickle estimator TfidfTransformer from version 0.20.1 when using version 0.20.0. This might lead to breaking code or invalid results. Use at your own risk.\n",
      "  UserWarning)\n",
      "/home/szymanskir/anaconda3/lib/python3.6/site-packages/sklearn/base.py:251: UserWarning: Trying to unpickle estimator TfidfVectorizer from version 0.20.1 when using version 0.20.0. This might lead to breaking code or invalid results. Use at your own risk.\n",
      "  UserWarning)\n"
     ]
    }
   ],
   "source": [
    "cb_models_filepath = '../models/content-based-models/'\n",
    "model_filepaths = find_pkl_filenames(cb_models_filepath)\n",
    "models = [read_object(model_filepath) for model_filepath in model_filepaths]"
   ]
  },
  {
   "cell_type": "code",
   "execution_count": 4,
   "metadata": {},
   "outputs": [
    {
     "name": "stdout",
     "output_type": "stream",
     "text": [
      "count-no-nouns-model.pkl features:\n",
      "abound\n",
      "about\n",
      "abov\n",
      "=======================================================\n",
      "count-nouns-2grams-model.pkl features:\n",
      "abagnal\n",
      "abagnal charm\n",
      "abagnal don\n",
      "=======================================================\n",
      "count-no-nouns-2grams-model.pkl features:\n",
      "abandon desol\n",
      "abandon devil\n",
      "abandon discov\n",
      "=======================================================\n",
      "count-nouns-3grams-model.pkl features:\n",
      "aaron tri\n",
      "aaron tri dismiss\n",
      "aaronovitch\n",
      "=======================================================\n",
      "tf-idf-nouns-model.pkl features:\n",
      "abhor\n",
      "abhorsen\n",
      "abid\n",
      "=======================================================\n",
      "tf-idf-no-nouns-3grams-model.pkl features:\n",
      "abandon brother betray\n",
      "abandon brother but\n",
      "abandon brought\n",
      "=======================================================\n",
      "tf-idf-no-nouns-model.pkl features:\n",
      "abound\n",
      "about\n",
      "abov\n",
      "=======================================================\n",
      "count-nouns-model.pkl features:\n",
      "abhor\n",
      "abhorsen\n",
      "abid\n",
      "=======================================================\n",
      "tf-idf-nouns-2grams-model.pkl features:\n",
      "abagnal\n",
      "abagnal charm\n",
      "abagnal don\n",
      "=======================================================\n",
      "tf-idf-no-nouns-2grams-model.pkl features:\n",
      "abandon desol\n",
      "abandon devil\n",
      "abandon discov\n",
      "=======================================================\n",
      "count-no-nouns-3grams-model.pkl features:\n",
      "abandon brother betray\n",
      "abandon brother but\n",
      "abandon brought\n",
      "=======================================================\n",
      "tf-idf-nouns-3grams-model.pkl features:\n",
      "aaron tri\n",
      "aaron tri dismiss\n",
      "aaronovitch\n",
      "=======================================================\n"
     ]
    }
   ],
   "source": [
    "for name, model in zip(model_filepaths, models):\n",
    "    print(f'{basename(name)} features:')\n",
    "    print('\\n'.join(model.content_analyzer.get_feature_names()[30:33]))\n",
    "    print('=======================================================')"
   ]
  }
 ],
 "metadata": {
  "kernelspec": {
   "display_name": "Python 3",
   "language": "python",
   "name": "python3"
  },
  "language_info": {
   "codemirror_mode": {
    "name": "ipython",
    "version": 3
   },
   "file_extension": ".py",
   "mimetype": "text/x-python",
   "name": "python",
   "nbconvert_exporter": "python",
   "pygments_lexer": "ipython3",
   "version": "3.6.6"
  }
 },
 "nbformat": 4,
 "nbformat_minor": 2
}
