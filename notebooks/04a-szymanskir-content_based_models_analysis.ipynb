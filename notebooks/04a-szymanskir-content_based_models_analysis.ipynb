{
 "cells": [
  {
   "cell_type": "markdown",
   "metadata": {},
   "source": [
    "# Imports"
   ]
  },
  {
   "cell_type": "code",
   "execution_count": null,
   "metadata": {},
   "outputs": [],
   "source": [
    "import pandas as pd\n",
    "\n",
    "from os import listdir\n",
    "from os.path import basename, join\n",
    "from src.utils.serialization import read_object"
   ]
  },
  {
   "cell_type": "markdown",
   "metadata": {},
   "source": [
    "# Helper functions"
   ]
  },
  {
   "cell_type": "code",
   "execution_count": null,
   "metadata": {},
   "outputs": [],
   "source": [
    "def find_pkl_filenames(dir_path, suffix='.pkl'):\n",
    "    files = listdir(dir_path)\n",
    "    return [join(dir_path, file) for file in files if file.endswith(suffix)]"
   ]
  },
  {
   "cell_type": "code",
   "execution_count": null,
   "metadata": {},
   "outputs": [],
   "source": [
    "cb_models_filepath = '../models/content-based-models/'\n",
    "model_filepaths = find_pkl_filenames(cb_models_filepath)\n",
    "models = [read_object(model_filepath) for model_filepath in model_filepaths]"
   ]
  },
  {
   "cell_type": "code",
   "execution_count": null,
   "metadata": {},
   "outputs": [],
   "source": [
    "for name, model in zip(model_filepaths, models):\n",
    "    print(f'{basename(name)} features:')\n",
    "    print('\\n'.join(model.content_analyzer.get_feature_names()[30:33]))\n",
    "    print('=======================================================')"
   ]
  }
 ],
 "metadata": {
  "kernelspec": {
   "display_name": "Python 3",
   "language": "python",
   "name": "python3"
  },
  "language_info": {
   "codemirror_mode": {
    "name": "ipython",
    "version": 3
   },
   "file_extension": ".py",
   "mimetype": "text/x-python",
   "name": "python",
   "nbconvert_exporter": "python",
   "pygments_lexer": "ipython3",
   "version": "3.6.6"
  }
 },
 "nbformat": 4,
 "nbformat_minor": 2
}
